{
 "cells": [
  {
   "cell_type": "code",
   "execution_count": 6,
   "metadata": {},
   "outputs": [
    {
     "name": "stdout",
     "output_type": "stream",
     "text": [
      "Note: you may need to restart the kernel to use updated packages.Requirement already satisfied: langchain in c:\\users\\testm\\appdata\\local\\programs\\python\\python310\\lib\\site-packages (0.3.14)\n",
      "Requirement already satisfied: langchain-community in c:\\users\\testm\\appdata\\local\\programs\\python\\python310\\lib\\site-packages (0.3.14)\n",
      "Requirement already satisfied: langchain_google_genai in c:\\users\\testm\\appdata\\local\\programs\\python\\python310\\lib\\site-packages (2.0.8)\n",
      "Requirement already satisfied: chromadb in c:\\users\\testm\\appdata\\local\\programs\\python\\python310\\lib\\site-packages (0.6.3)\n",
      "Requirement already satisfied: langsmith<0.3,>=0.1.17 in c:\\users\\testm\\appdata\\local\\programs\\python\\python310\\lib\\site-packages (from langchain) (0.2.10)\n",
      "Requirement already satisfied: SQLAlchemy<3,>=1.4 in c:\\users\\testm\\appdata\\local\\programs\\python\\python310\\lib\\site-packages (from langchain) (2.0.37)\n",
      "Requirement already satisfied: aiohttp<4.0.0,>=3.8.3 in c:\\users\\testm\\appdata\\local\\programs\\python\\python310\\lib\\site-packages (from langchain) (3.11.11)\n",
      "Requirement already satisfied: langchain-core<0.4.0,>=0.3.29 in c:\\users\\testm\\appdata\\local\\programs\\python\\python310\\lib\\site-packages (from langchain) (0.3.29)\n",
      "Requirement already satisfied: async-timeout<5.0.0,>=4.0.0 in c:\\users\\testm\\appdata\\local\\programs\\python\\python310\\lib\\site-packages (from langchain) (4.0.3)\n",
      "Requirement already satisfied: tenacity!=8.4.0,<10,>=8.1.0 in c:\\users\\testm\\appdata\\local\\programs\\python\\python310\\lib\\site-packages (from langchain) (9.0.0)\n",
      "Requirement already satisfied: requests<3,>=2 in c:\\users\\testm\\appdata\\local\\programs\\python\\python310\\lib\\site-packages (from langchain) (2.32.3)\n",
      "Requirement already satisfied: pydantic<3.0.0,>=2.7.4 in c:\\users\\testm\\appdata\\local\\programs\\python\\python310\\lib\\site-packages (from langchain) (2.10.5)\n",
      "Requirement already satisfied: langchain-text-splitters<0.4.0,>=0.3.3 in c:\\users\\testm\\appdata\\local\\programs\\python\\python310\\lib\\site-packages (from langchain) (0.3.5)\n",
      "Requirement already satisfied: PyYAML>=5.3 in c:\\users\\testm\\appdata\\local\\programs\\python\\python310\\lib\\site-packages (from langchain) (6.0.2)\n",
      "Requirement already satisfied: numpy<2,>=1.22.4 in c:\\users\\testm\\appdata\\local\\programs\\python\\python310\\lib\\site-packages (from langchain) (1.26.4)\n",
      "Requirement already satisfied: pydantic-settings<3.0.0,>=2.4.0 in c:\\users\\testm\\appdata\\local\\programs\\python\\python310\\lib\\site-packages (from langchain-community) (2.7.1)\n",
      "Requirement already satisfied: dataclasses-json<0.7,>=0.5.7 in c:\\users\\testm\\appdata\\local\\programs\\python\\python310\\lib\\site-packages (from langchain-community) (0.6.7)\n",
      "Requirement already satisfied: httpx-sse<0.5.0,>=0.4.0 in c:\\users\\testm\\appdata\\local\\programs\\python\\python310\\lib\\site-packages (from langchain-community) (0.4.0)\n",
      "Requirement already satisfied: filetype<2.0.0,>=1.2.0 in c:\\users\\testm\\appdata\\local\\programs\\python\\python310\\lib\\site-packages (from langchain_google_genai) (1.2.0)\n",
      "Requirement already satisfied: google-generativeai<0.9.0,>=0.8.0 in c:\\users\\testm\\appdata\\local\\programs\\python\\python310\\lib\\site-packages (from langchain_google_genai) (0.8.3)\n",
      "Requirement already satisfied: opentelemetry-instrumentation-fastapi>=0.41b0 in c:\\users\\testm\\appdata\\local\\programs\\python\\python310\\lib\\site-packages (from chromadb) (0.50b0)\n",
      "Requirement already satisfied: overrides>=7.3.1 in c:\\users\\testm\\appdata\\local\\programs\\python\\python310\\lib\\site-packages (from chromadb) (7.7.0)\n",
      "Requirement already satisfied: bcrypt>=4.0.1 in c:\\users\\testm\\appdata\\local\\programs\\python\\python310\\lib\\site-packages (from chromadb) (4.2.1)\n",
      "Requirement already satisfied: chroma-hnswlib==0.7.6 in c:\\users\\testm\\appdata\\local\\programs\\python\\python310\\lib\\site-packages (from chromadb) (0.7.6)\n",
      "Requirement already satisfied: opentelemetry-exporter-otlp-proto-grpc>=1.2.0 in c:\\users\\testm\\appdata\\local\\programs\\python\\python310\\lib\\site-packages (from chromadb) (1.29.0)\n",
      "Requirement already satisfied: typing_extensions>=4.5.0 in c:\\users\\testm\\appdata\\roaming\\python\\python310\\site-packages (from chromadb) (4.12.2)\n",
      "Requirement already satisfied: fastapi>=0.95.2 in c:\\users\\testm\\appdata\\local\\programs\\python\\python310\\lib\\site-packages (from chromadb) (0.115.6)\n",
      "Requirement already satisfied: typer>=0.9.0 in c:\\users\\testm\\appdata\\local\\programs\\python\\python310\\lib\\site-packages (from chromadb) (0.15.1)\n",
      "Requirement already satisfied: orjson>=3.9.12 in c:\\users\\testm\\appdata\\local\\programs\\python\\python310\\lib\\site-packages (from chromadb) (3.10.14)\n",
      "Requirement already satisfied: posthog>=2.4.0 in c:\\users\\testm\\appdata\\local\\programs\\python\\python310\\lib\\site-packages (from chromadb) (3.8.3)\n",
      "Requirement already satisfied: rich>=10.11.0 in c:\\users\\testm\\appdata\\local\\programs\\python\\python310\\lib\\site-packages (from chromadb) (13.9.4)\n",
      "Requirement already satisfied: opentelemetry-sdk>=1.2.0 in c:\\users\\testm\\appdata\\local\\programs\\python\\python310\\lib\\site-packages (from chromadb) (1.29.0)\n",
      "Requirement already satisfied: mmh3>=4.0.1 in c:\\users\\testm\\appdata\\local\\programs\\python\\python310\\lib\\site-packages (from chromadb) (5.0.1)\n",
      "Requirement already satisfied: importlib-resources in c:\\users\\testm\\appdata\\local\\programs\\python\\python310\\lib\\site-packages (from chromadb) (6.5.2)\n",
      "Requirement already satisfied: tqdm>=4.65.0 in c:\\users\\testm\\appdata\\local\\programs\\python\\python310\\lib\\site-packages (from chromadb) (4.67.1)\n",
      "Requirement already satisfied: opentelemetry-api>=1.2.0 in c:\\users\\testm\\appdata\\local\\programs\\python\\python310\\lib\\site-packages (from chromadb) (1.29.0)\n",
      "Requirement already satisfied: onnxruntime>=1.14.1 in c:\\users\\testm\\appdata\\local\\programs\\python\\python310\\lib\\site-packages (from chromadb) (1.20.1)\n",
      "Requirement already satisfied: build>=1.0.3 in c:\\users\\testm\\appdata\\local\\programs\\python\\python310\\lib\\site-packages (from chromadb) (1.2.2.post1)\n",
      "Requirement already satisfied: pypika>=0.48.9 in c:\\users\\testm\\appdata\\local\\programs\\python\\python310\\lib\\site-packages (from chromadb) (0.48.9)\n",
      "Requirement already satisfied: grpcio>=1.58.0 in c:\\users\\testm\\appdata\\local\\programs\\python\\python310\\lib\\site-packages (from chromadb) (1.69.0)\n",
      "Requirement already satisfied: kubernetes>=28.1.0 in c:\\users\\testm\\appdata\\local\\programs\\python\\python310\\lib\\site-packages (from chromadb) (31.0.0)\n",
      "Requirement already satisfied: tokenizers>=0.13.2 in c:\\users\\testm\\appdata\\local\\programs\\python\\python310\\lib\\site-packages (from chromadb) (0.21.0)\n",
      "Requirement already satisfied: httpx>=0.27.0 in c:\\users\\testm\\appdata\\local\\programs\\python\\python310\\lib\\site-packages (from chromadb) (0.27.2)\n",
      "Requirement already satisfied: uvicorn[standard]>=0.18.3 in c:\\users\\testm\\appdata\\local\\programs\\python\\python310\\lib\\site-packages (from chromadb) (0.34.0)\n",
      "Requirement already satisfied: attrs>=17.3.0 in c:\\users\\testm\\appdata\\local\\programs\\python\\python310\\lib\\site-packages (from aiohttp<4.0.0,>=3.8.3->langchain) (24.3.0)\n",
      "Requirement already satisfied: frozenlist>=1.1.1 in c:\\users\\testm\\appdata\\local\\programs\\python\\python310\\lib\\site-packages (from aiohttp<4.0.0,>=3.8.3->langchain) (1.5.0)\n",
      "Requirement already satisfied: aiosignal>=1.1.2 in c:\\users\\testm\\appdata\\local\\programs\\python\\python310\\lib\\site-packages (from aiohttp<4.0.0,>=3.8.3->langchain) (1.3.2)\n",
      "Requirement already satisfied: yarl<2.0,>=1.17.0 in c:\\users\\testm\\appdata\\local\\programs\\python\\python310\\lib\\site-packages (from aiohttp<4.0.0,>=3.8.3->langchain) (1.18.3)\n",
      "Requirement already satisfied: aiohappyeyeballs>=2.3.0 in c:\\users\\testm\\appdata\\local\\programs\\python\\python310\\lib\\site-packages (from aiohttp<4.0.0,>=3.8.3->langchain) (2.4.4)\n",
      "Requirement already satisfied: multidict<7.0,>=4.5 in c:\\users\\testm\\appdata\\local\\programs\\python\\python310\\lib\\site-packages (from aiohttp<4.0.0,>=3.8.3->langchain) (6.1.0)\n",
      "Requirement already satisfied: propcache>=0.2.0 in c:\\users\\testm\\appdata\\local\\programs\\python\\python310\\lib\\site-packages (from aiohttp<4.0.0,>=3.8.3->langchain) (0.2.1)\n",
      "Requirement already satisfied: packaging>=19.1 in c:\\users\\testm\\appdata\\roaming\\python\\python310\\site-packages (from build>=1.0.3->chromadb) (24.1)\n",
      "Requirement already satisfied: pyproject_hooks in c:\\users\\testm\\appdata\\local\\programs\\python\\python310\\lib\\site-packages (from build>=1.0.3->chromadb) (1.2.0)\n",
      "Requirement already satisfied: tomli>=1.1.0 in c:\\users\\testm\\appdata\\local\\programs\\python\\python310\\lib\\site-packages (from build>=1.0.3->chromadb) (2.2.1)\n",
      "Requirement already satisfied: colorama in c:\\users\\testm\\appdata\\roaming\\python\\python310\\site-packages (from build>=1.0.3->chromadb) (0.4.6)\n",
      "Requirement already satisfied: typing-inspect<1,>=0.4.0 in c:\\users\\testm\\appdata\\local\\programs\\python\\python310\\lib\\site-packages (from dataclasses-json<0.7,>=0.5.7->langchain-community) (0.9.0)\n",
      "Requirement already satisfied: marshmallow<4.0.0,>=3.18.0 in c:\\users\\testm\\appdata\\local\\programs\\python\\python310\\lib\\site-packages (from dataclasses-json<0.7,>=0.5.7->langchain-community) (3.25.1)\n",
      "Requirement already satisfied: starlette<0.42.0,>=0.40.0 in c:\\users\\testm\\appdata\\local\\programs\\python\\python310\\lib\\site-packages (from fastapi>=0.95.2->chromadb) (0.41.3)\n",
      "Requirement already satisfied: protobuf in c:\\users\\testm\\appdata\\local\\programs\\python\\python310\\lib\\site-packages (from google-generativeai<0.9.0,>=0.8.0->langchain_google_genai) (5.29.3)\n",
      "Requirement already satisfied: google-api-python-client in c:\\users\\testm\\appdata\\local\\programs\\python\\python310\\lib\\site-packages (from google-generativeai<0.9.0,>=0.8.0->langchain_google_genai) (2.159.0)\n",
      "Requirement already satisfied: google-ai-generativelanguage==0.6.10 in c:\\users\\testm\\appdata\\local\\programs\\python\\python310\\lib\\site-packages (from google-generativeai<0.9.0,>=0.8.0->langchain_google_genai) (0.6.10)\n",
      "Requirement already satisfied: google-auth>=2.15.0 in c:\\users\\testm\\appdata\\local\\programs\\python\\python310\\lib\\site-packages (from google-generativeai<0.9.0,>=0.8.0->langchain_google_genai) (2.37.0)\n",
      "Requirement already satisfied: google-api-core in c:\\users\\testm\\appdata\\local\\programs\\python\\python310\\lib\\site-packages (from google-generativeai<0.9.0,>=0.8.0->langchain_google_genai) (2.24.0)\n",
      "Requirement already satisfied: proto-plus<2.0.0dev,>=1.22.3 in c:\\users\\testm\\appdata\\local\\programs\\python\\python310\\lib\\site-packages (from google-ai-generativelanguage==0.6.10->google-generativeai<0.9.0,>=0.8.0->langchain_google_genai) (1.25.0)\n",
      "Requirement already satisfied: anyio in c:\\users\\testm\\appdata\\local\\programs\\python\\python310\\lib\\site-packages (from httpx>=0.27.0->chromadb) (4.8.0)\n",
      "Requirement already satisfied: certifi in c:\\users\\testm\\appdata\\local\\programs\\python\\python310\\lib\\site-packages (from httpx>=0.27.0->chromadb) (2024.12.14)\n",
      "Requirement already satisfied: idna in c:\\users\\testm\\appdata\\local\\programs\\python\\python310\\lib\\site-packages (from httpx>=0.27.0->chromadb) (3.10)\n",
      "Requirement already satisfied: sniffio in c:\\users\\testm\\appdata\\local\\programs\\python\\python310\\lib\\site-packages (from httpx>=0.27.0->chromadb) (1.3.1)\n",
      "Requirement already satisfied: httpcore==1.* in c:\\users\\testm\\appdata\\local\\programs\\python\\python310\\lib\\site-packages (from httpx>=0.27.0->chromadb) (1.0.7)\n",
      "Requirement already satisfied: h11<0.15,>=0.13 in c:\\users\\testm\\appdata\\local\\programs\\python\\python310\\lib\\site-packages (from httpcore==1.*->httpx>=0.27.0->chromadb) (0.14.0)\n",
      "Requirement already satisfied: urllib3>=1.24.2 in c:\\users\\testm\\appdata\\local\\programs\\python\\python310\\lib\\site-packages (from kubernetes>=28.1.0->chromadb) (2.3.0)\n",
      "Requirement already satisfied: requests-oauthlib in c:\\users\\testm\\appdata\\local\\programs\\python\\python310\\lib\\site-packages (from kubernetes>=28.1.0->chromadb) (2.0.0)\n",
      "Requirement already satisfied: oauthlib>=3.2.2 in c:\\users\\testm\\appdata\\local\\programs\\python\\python310\\lib\\site-packages (from kubernetes>=28.1.0->chromadb) (3.2.2)\n",
      "Requirement already satisfied: python-dateutil>=2.5.3 in c:\\users\\testm\\appdata\\roaming\\python\\python310\\site-packages (from kubernetes>=28.1.0->chromadb) (2.9.0.post0)\n",
      "Requirement already satisfied: websocket-client!=0.40.0,!=0.41.*,!=0.42.*,>=0.32.0 in c:\\users\\testm\\appdata\\local\\programs\\python\\python310\\lib\\site-packages (from kubernetes>=28.1.0->chromadb) (1.8.0)\n",
      "Requirement already satisfied: six>=1.9.0 in c:\\users\\testm\\appdata\\roaming\\python\\python310\\site-packages (from kubernetes>=28.1.0->chromadb) (1.16.0)\n",
      "Requirement already satisfied: durationpy>=0.7 in c:\\users\\testm\\appdata\\local\\programs\\python\\python310\\lib\\site-packages (from kubernetes>=28.1.0->chromadb) (0.9)\n",
      "Requirement already satisfied: jsonpatch<2.0,>=1.33 in c:\\users\\testm\\appdata\\local\\programs\\python\\python310\\lib\\site-packages (from langchain-core<0.4.0,>=0.3.29->langchain) (1.33)\n",
      "Requirement already satisfied: requests-toolbelt<2.0.0,>=1.0.0 in c:\\users\\testm\\appdata\\local\\programs\\python\\python310\\lib\\site-packages (from langsmith<0.3,>=0.1.17->langchain) (1.0.0)\n",
      "Requirement already satisfied: coloredlogs in c:\\users\\testm\\appdata\\local\\programs\\python\\python310\\lib\\site-packages (from onnxruntime>=1.14.1->chromadb) (15.0.1)\n",
      "Requirement already satisfied: flatbuffers in c:\\users\\testm\\appdata\\local\\programs\\python\\python310\\lib\\site-packages (from onnxruntime>=1.14.1->chromadb) (24.12.23)\n",
      "Requirement already satisfied: sympy in c:\\users\\testm\\appdata\\local\\programs\\python\\python310\\lib\\site-packages (from onnxruntime>=1.14.1->chromadb) (1.13.3)\n",
      "Requirement already satisfied: deprecated>=1.2.6 in c:\\users\\testm\\appdata\\local\\programs\\python\\python310\\lib\\site-packages (from opentelemetry-api>=1.2.0->chromadb) (1.2.15)\n",
      "Requirement already satisfied: importlib-metadata<=8.5.0,>=6.0 in c:\\users\\testm\\appdata\\local\\programs\\python\\python310\\lib\\site-packages (from opentelemetry-api>=1.2.0->chromadb) (8.5.0)\n",
      "Requirement already satisfied: googleapis-common-protos~=1.52 in c:\\users\\testm\\appdata\\local\\programs\\python\\python310\\lib\\site-packages (from opentelemetry-exporter-otlp-proto-grpc>=1.2.0->chromadb) (1.66.0)\n",
      "Requirement already satisfied: opentelemetry-proto==1.29.0 in c:\\users\\testm\\appdata\\local\\programs\\python\\python310\\lib\\site-packages (from opentelemetry-exporter-otlp-proto-grpc>=1.2.0->chromadb) (1.29.0)\n",
      "Requirement already satisfied: opentelemetry-exporter-otlp-proto-common==1.29.0 in c:\\users\\testm\\appdata\\local\\programs\\python\\python310\\lib\\site-packages (from opentelemetry-exporter-otlp-proto-grpc>=1.2.0->chromadb) (1.29.0)\n",
      "Requirement already satisfied: opentelemetry-semantic-conventions==0.50b0 in c:\\users\\testm\\appdata\\local\\programs\\python\\python310\\lib\\site-packages (from opentelemetry-instrumentation-fastapi>=0.41b0->chromadb) (0.50b0)\n",
      "Requirement already satisfied: opentelemetry-instrumentation-asgi==0.50b0 in c:\\users\\testm\\appdata\\local\\programs\\python\\python310\\lib\\site-packages (from opentelemetry-instrumentation-fastapi>=0.41b0->chromadb) (0.50b0)\n",
      "Requirement already satisfied: opentelemetry-util-http==0.50b0 in c:\\users\\testm\\appdata\\local\\programs\\python\\python310\\lib\\site-packages (from opentelemetry-instrumentation-fastapi>=0.41b0->chromadb) (0.50b0)\n",
      "Requirement already satisfied: opentelemetry-instrumentation==0.50b0 in c:\\users\\testm\\appdata\\local\\programs\\python\\python310\\lib\\site-packages (from opentelemetry-instrumentation-fastapi>=0.41b0->chromadb) (0.50b0)\n",
      "Requirement already satisfied: wrapt<2.0.0,>=1.0.0 in c:\\users\\testm\\appdata\\local\\programs\\python\\python310\\lib\\site-packages (from opentelemetry-instrumentation==0.50b0->opentelemetry-instrumentation-fastapi>=0.41b0->chromadb) (1.17.2)\n",
      "Requirement already satisfied: asgiref~=3.0 in c:\\users\\testm\\appdata\\local\\programs\\python\\python310\\lib\\site-packages (from opentelemetry-instrumentation-asgi==0.50b0->opentelemetry-instrumentation-fastapi>=0.41b0->chromadb) (3.8.1)\n",
      "Requirement already satisfied: monotonic>=1.5 in c:\\users\\testm\\appdata\\local\\programs\\python\\python310\\lib\\site-packages (from posthog>=2.4.0->chromadb) (1.6)\n",
      "Requirement already satisfied: backoff>=1.10.0 in c:\\users\\testm\\appdata\\local\\programs\\python\\python310\\lib\\site-packages (from posthog>=2.4.0->chromadb) (2.2.1)\n",
      "Requirement already satisfied: annotated-types>=0.6.0 in c:\\users\\testm\\appdata\\local\\programs\\python\\python310\\lib\\site-packages (from pydantic<3.0.0,>=2.7.4->langchain) (0.7.0)\n",
      "Requirement already satisfied: pydantic-core==2.27.2 in c:\\users\\testm\\appdata\\local\\programs\\python\\python310\\lib\\site-packages (from pydantic<3.0.0,>=2.7.4->langchain) (2.27.2)\n",
      "Requirement already satisfied: python-dotenv>=0.21.0 in c:\\users\\testm\\appdata\\local\\programs\\python\\python310\\lib\\site-packages (from pydantic-settings<3.0.0,>=2.4.0->langchain-community) (1.0.1)\n",
      "Requirement already satisfied: charset-normalizer<4,>=2 in c:\\users\\testm\\appdata\\local\\programs\\python\\python310\\lib\\site-packages (from requests<3,>=2->langchain) (3.4.1)\n",
      "Requirement already satisfied: pygments<3.0.0,>=2.13.0 in c:\\users\\testm\\appdata\\roaming\\python\\python310\\site-packages (from rich>=10.11.0->chromadb) (2.18.0)\n",
      "Requirement already satisfied: markdown-it-py>=2.2.0 in c:\\users\\testm\\appdata\\local\\programs\\python\\python310\\lib\\site-packages (from rich>=10.11.0->chromadb) (3.0.0)\n",
      "Requirement already satisfied: greenlet!=0.4.17 in c:\\users\\testm\\appdata\\local\\programs\\python\\python310\\lib\\site-packages (from SQLAlchemy<3,>=1.4->langchain) (3.1.1)\n",
      "Requirement already satisfied: huggingface-hub<1.0,>=0.16.4 in c:\\users\\testm\\appdata\\local\\programs\\python\\python310\\lib\\site-packages (from tokenizers>=0.13.2->chromadb) (0.27.1)\n",
      "Requirement already satisfied: click>=8.0.0 in c:\\users\\testm\\appdata\\local\\programs\\python\\python310\\lib\\site-packages (from typer>=0.9.0->chromadb) (8.1.8)\n",
      "Requirement already satisfied: shellingham>=1.3.0 in c:\\users\\testm\\appdata\\local\\programs\\python\\python310\\lib\\site-packages (from typer>=0.9.0->chromadb) (1.5.4)\n",
      "Requirement already satisfied: httptools>=0.6.3 in c:\\users\\testm\\appdata\\local\\programs\\python\\python310\\lib\\site-packages (from uvicorn[standard]>=0.18.3->chromadb) (0.6.4)\n",
      "Requirement already satisfied: watchfiles>=0.13 in c:\\users\\testm\\appdata\\local\\programs\\python\\python310\\lib\\site-packages (from uvicorn[standard]>=0.18.3->chromadb) (1.0.4)\n",
      "Requirement already satisfied: websockets>=10.4 in c:\\users\\testm\\appdata\\local\\programs\\python\\python310\\lib\\site-packages (from uvicorn[standard]>=0.18.3->chromadb) (14.1)\n",
      "Requirement already satisfied: pyasn1-modules>=0.2.1 in c:\\users\\testm\\appdata\\local\\programs\\python\\python310\\lib\\site-packages (from google-auth>=2.15.0->google-generativeai<0.9.0,>=0.8.0->langchain_google_genai) (0.4.1)\n",
      "Requirement already satisfied: rsa<5,>=3.1.4 in c:\\users\\testm\\appdata\\local\\programs\\python\\python310\\lib\\site-packages (from google-auth>=2.15.0->google-generativeai<0.9.0,>=0.8.0->langchain_google_genai) (4.9)\n",
      "Requirement already satisfied: cachetools<6.0,>=2.0.0 in c:\\users\\testm\\appdata\\local\\programs\\python\\python310\\lib\\site-packages (from google-auth>=2.15.0->google-generativeai<0.9.0,>=0.8.0->langchain_google_genai) (5.5.0)\n",
      "Requirement already satisfied: fsspec>=2023.5.0 in c:\\users\\testm\\appdata\\local\\programs\\python\\python310\\lib\\site-packages (from huggingface-hub<1.0,>=0.16.4->tokenizers>=0.13.2->chromadb) (2024.12.0)\n",
      "Requirement already satisfied: filelock in c:\\users\\testm\\appdata\\local\\programs\\python\\python310\\lib\\site-packages (from huggingface-hub<1.0,>=0.16.4->tokenizers>=0.13.2->chromadb) (3.16.1)\n",
      "Requirement already satisfied: zipp>=3.20 in c:\\users\\testm\\appdata\\local\\programs\\python\\python310\\lib\\site-packages (from importlib-metadata<=8.5.0,>=6.0->opentelemetry-api>=1.2.0->chromadb) (3.21.0)\n",
      "Requirement already satisfied: jsonpointer>=1.9 in c:\\users\\testm\\appdata\\local\\programs\\python\\python310\\lib\\site-packages (from jsonpatch<2.0,>=1.33->langchain-core<0.4.0,>=0.3.29->langchain) (3.0.0)\n",
      "Requirement already satisfied: mdurl~=0.1 in c:\\users\\testm\\appdata\\local\\programs\\python\\python310\\lib\\site-packages (from markdown-it-py>=2.2.0->rich>=10.11.0->chromadb) (0.1.2)\n",
      "Requirement already satisfied: exceptiongroup>=1.0.2 in c:\\users\\testm\\appdata\\roaming\\python\\python310\\site-packages (from anyio->httpx>=0.27.0->chromadb) (1.2.2)\n",
      "Requirement already satisfied: mypy-extensions>=0.3.0 in c:\\users\\testm\\appdata\\local\\programs\\python\\python310\\lib\\site-packages (from typing-inspect<1,>=0.4.0->dataclasses-json<0.7,>=0.5.7->langchain-community) (1.0.0)\n",
      "Requirement already satisfied: humanfriendly>=9.1 in c:\\users\\testm\\appdata\\local\\programs\\python\\python310\\lib\\site-packages (from coloredlogs->onnxruntime>=1.14.1->chromadb) (10.0)\n",
      "Requirement already satisfied: httplib2<1.dev0,>=0.19.0 in c:\\users\\testm\\appdata\\local\\programs\\python\\python310\\lib\\site-packages (from google-api-python-client->google-generativeai<0.9.0,>=0.8.0->langchain_google_genai) (0.22.0)\n",
      "Requirement already satisfied: uritemplate<5,>=3.0.1 in c:\\users\\testm\\appdata\\local\\programs\\python\\python310\\lib\\site-packages (from google-api-python-client->google-generativeai<0.9.0,>=0.8.0->langchain_google_genai) (4.1.1)\n",
      "Requirement already satisfied: google-auth-httplib2<1.0.0,>=0.2.0 in c:\\users\\testm\\appdata\\local\\programs\\python\\python310\\lib\\site-packages (from google-api-python-client->google-generativeai<0.9.0,>=0.8.0->langchain_google_genai) (0.2.0)\n",
      "Requirement already satisfied: mpmath<1.4,>=1.1.0 in c:\\users\\testm\\appdata\\local\\programs\\python\\python310\\lib\\site-packages (from sympy->onnxruntime>=1.14.1->chromadb) (1.3.0)\n",
      "Requirement already satisfied: grpcio-status<2.0.dev0,>=1.33.2 in c:\\users\\testm\\appdata\\local\\programs\\python\\python310\\lib\\site-packages (from google-api-core->google-generativeai<0.9.0,>=0.8.0->langchain_google_genai) (1.69.0)\n",
      "Requirement already satisfied: pyparsing!=3.0.0,!=3.0.1,!=3.0.2,!=3.0.3,<4,>=2.4.2 in c:\\users\\testm\\appdata\\local\\programs\\python\\python310\\lib\\site-packages (from httplib2<1.dev0,>=0.19.0->google-api-python-client->google-generativeai<0.9.0,>=0.8.0->langchain_google_genai) (3.2.1)\n",
      "Requirement already satisfied: pyreadline3 in c:\\users\\testm\\appdata\\local\\programs\\python\\python310\\lib\\site-packages (from humanfriendly>=9.1->coloredlogs->onnxruntime>=1.14.1->chromadb) (3.5.4)\n",
      "Requirement already satisfied: pyasn1<0.7.0,>=0.4.6 in c:\\users\\testm\\appdata\\local\\programs\\python\\python310\\lib\\site-packages (from pyasn1-modules>=0.2.1->google-auth>=2.15.0->google-generativeai<0.9.0,>=0.8.0->langchain_google_genai) (0.6.1)\n",
      "\n"
     ]
    },
    {
     "name": "stderr",
     "output_type": "stream",
     "text": [
      "WARNING: You are using pip version 22.0.4; however, version 24.3.1 is available.\n",
      "You should consider upgrading via the 'c:\\Users\\testm\\AppData\\Local\\Programs\\Python\\Python310\\python.exe -m pip install --upgrade pip' command.\n"
     ]
    },
    {
     "name": "stdout",
     "output_type": "stream",
     "text": [
      "Requirement already satisfied: pypdf in c:\\users\\testm\\appdata\\local\\programs\\python\\python310\\lib\\site-packages (5.1.0)\n",
      "Requirement already satisfied: pandas in c:\\users\\testm\\appdata\\local\\programs\\python\\python310\\lib\\site-packages (2.2.3)\n",
      "Requirement already satisfied: streamlit in c:\\users\\testm\\appdata\\local\\programs\\python\\python310\\lib\\site-packages (1.41.1)\n",
      "Requirement already satisfied: python-dotenv in c:\\users\\testm\\appdata\\local\\programs\\python\\python310\\lib\\site-packages (1.0.1)\n",
      "Requirement already satisfied: typing_extensions>=4.0 in c:\\users\\testm\\appdata\\roaming\\python\\python310\\site-packages (from pypdf) (4.12.2)\n",
      "Requirement already satisfied: numpy>=1.22.4 in c:\\users\\testm\\appdata\\local\\programs\\python\\python310\\lib\\site-packages (from pandas) (1.26.4)\n",
      "Requirement already satisfied: python-dateutil>=2.8.2 in c:\\users\\testm\\appdata\\roaming\\python\\python310\\site-packages (from pandas) (2.9.0.post0)\n",
      "Requirement already satisfied: pytz>=2020.1 in c:\\users\\testm\\appdata\\local\\programs\\python\\python310\\lib\\site-packages (from pandas) (2024.2)\n",
      "Requirement already satisfied: tzdata>=2022.7 in c:\\users\\testm\\appdata\\local\\programs\\python\\python310\\lib\\site-packages (from pandas) (2024.2)\n",
      "Requirement already satisfied: toml<2,>=0.10.1 in c:\\users\\testm\\appdata\\local\\programs\\python\\python310\\lib\\site-packages (from streamlit) (0.10.2)\n",
      "Requirement already satisfied: watchdog<7,>=2.1.5 in c:\\users\\testm\\appdata\\local\\programs\\python\\python310\\lib\\site-packages (from streamlit) (6.0.0)\n",
      "Requirement already satisfied: blinker<2,>=1.0.0 in c:\\users\\testm\\appdata\\local\\programs\\python\\python310\\lib\\site-packages (from streamlit) (1.9.0)\n",
      "Requirement already satisfied: gitpython!=3.1.19,<4,>=3.0.7 in c:\\users\\testm\\appdata\\local\\programs\\python\\python310\\lib\\site-packages (from streamlit) (3.1.44)\n",
      "Requirement already satisfied: cachetools<6,>=4.0 in c:\\users\\testm\\appdata\\local\\programs\\python\\python310\\lib\\site-packages (from streamlit) (5.5.0)\n",
      "Requirement already satisfied: protobuf<6,>=3.20 in c:\\users\\testm\\appdata\\local\\programs\\python\\python310\\lib\\site-packages (from streamlit) (5.29.3)\n",
      "Requirement already satisfied: requests<3,>=2.27 in c:\\users\\testm\\appdata\\local\\programs\\python\\python310\\lib\\site-packages (from streamlit) (2.32.3)\n",
      "Requirement already satisfied: pydeck<1,>=0.8.0b4 in c:\\users\\testm\\appdata\\local\\programs\\python\\python310\\lib\\site-packages (from streamlit) (0.9.1)\n",
      "Requirement already satisfied: tornado<7,>=6.0.3 in c:\\users\\testm\\appdata\\roaming\\python\\python310\\site-packages (from streamlit) (6.4.1)\n",
      "Requirement already satisfied: altair<6,>=4.0 in c:\\users\\testm\\appdata\\local\\programs\\python\\python310\\lib\\site-packages (from streamlit) (5.5.0)\n",
      "Requirement already satisfied: packaging<25,>=20 in c:\\users\\testm\\appdata\\roaming\\python\\python310\\site-packages (from streamlit) (24.1)\n",
      "Requirement already satisfied: click<9,>=7.0 in c:\\users\\testm\\appdata\\local\\programs\\python\\python310\\lib\\site-packages (from streamlit) (8.1.8)\n",
      "Requirement already satisfied: pyarrow>=7.0 in c:\\users\\testm\\appdata\\local\\programs\\python\\python310\\lib\\site-packages (from streamlit) (19.0.0)\n",
      "Requirement already satisfied: pillow<12,>=7.1.0 in c:\\users\\testm\\appdata\\local\\programs\\python\\python310\\lib\\site-packages (from streamlit) (10.4.0)\n",
      "Requirement already satisfied: tenacity<10,>=8.1.0 in c:\\users\\testm\\appdata\\local\\programs\\python\\python310\\lib\\site-packages (from streamlit) (9.0.0)\n",
      "Requirement already satisfied: rich<14,>=10.14.0 in c:\\users\\testm\\appdata\\local\\programs\\python\\python310\\lib\\site-packages (from streamlit) (13.9.4)\n",
      "Requirement already satisfied: jinja2 in c:\\users\\testm\\appdata\\local\\programs\\python\\python310\\lib\\site-packages (from altair<6,>=4.0->streamlit) (3.1.5)\n",
      "Requirement already satisfied: narwhals>=1.14.2 in c:\\users\\testm\\appdata\\local\\programs\\python\\python310\\lib\\site-packages (from altair<6,>=4.0->streamlit) (1.22.0)\n",
      "Requirement already satisfied: jsonschema>=3.0 in c:\\users\\testm\\appdata\\local\\programs\\python\\python310\\lib\\site-packages (from altair<6,>=4.0->streamlit) (4.23.0)\n",
      "Requirement already satisfied: colorama in c:\\users\\testm\\appdata\\roaming\\python\\python310\\site-packages (from click<9,>=7.0->streamlit) (0.4.6)\n",
      "Requirement already satisfied: gitdb<5,>=4.0.1 in c:\\users\\testm\\appdata\\local\\programs\\python\\python310\\lib\\site-packages (from gitpython!=3.1.19,<4,>=3.0.7->streamlit) (4.0.12)\n",
      "Requirement already satisfied: six>=1.5 in c:\\users\\testm\\appdata\\roaming\\python\\python310\\site-packages (from python-dateutil>=2.8.2->pandas) (1.16.0)\n",
      "Requirement already satisfied: idna<4,>=2.5 in c:\\users\\testm\\appdata\\local\\programs\\python\\python310\\lib\\site-packages (from requests<3,>=2.27->streamlit) (3.10)\n",
      "Requirement already satisfied: certifi>=2017.4.17 in c:\\users\\testm\\appdata\\local\\programs\\python\\python310\\lib\\site-packages (from requests<3,>=2.27->streamlit) (2024.12.14)\n",
      "Requirement already satisfied: charset-normalizer<4,>=2 in c:\\users\\testm\\appdata\\local\\programs\\python\\python310\\lib\\site-packages (from requests<3,>=2.27->streamlit) (3.4.1)\n",
      "Requirement already satisfied: urllib3<3,>=1.21.1 in c:\\users\\testm\\appdata\\local\\programs\\python\\python310\\lib\\site-packages (from requests<3,>=2.27->streamlit) (2.3.0)\n",
      "Requirement already satisfied: markdown-it-py>=2.2.0 in c:\\users\\testm\\appdata\\local\\programs\\python\\python310\\lib\\site-packages (from rich<14,>=10.14.0->streamlit) (3.0.0)\n",
      "Requirement already satisfied: pygments<3.0.0,>=2.13.0 in c:\\users\\testm\\appdata\\roaming\\python\\python310\\site-packages (from rich<14,>=10.14.0->streamlit) (2.18.0)\n",
      "Requirement already satisfied: smmap<6,>=3.0.1 in c:\\users\\testm\\appdata\\local\\programs\\python\\python310\\lib\\site-packages (from gitdb<5,>=4.0.1->gitpython!=3.1.19,<4,>=3.0.7->streamlit) (5.0.2)\n",
      "Requirement already satisfied: MarkupSafe>=2.0 in c:\\users\\testm\\appdata\\local\\programs\\python\\python310\\lib\\site-packages (from jinja2->altair<6,>=4.0->streamlit) (3.0.2)\n",
      "Requirement already satisfied: referencing>=0.28.4 in c:\\users\\testm\\appdata\\local\\programs\\python\\python310\\lib\\site-packages (from jsonschema>=3.0->altair<6,>=4.0->streamlit) (0.35.1)\n",
      "Requirement already satisfied: jsonschema-specifications>=2023.03.6 in c:\\users\\testm\\appdata\\local\\programs\\python\\python310\\lib\\site-packages (from jsonschema>=3.0->altair<6,>=4.0->streamlit) (2024.10.1)\n",
      "Requirement already satisfied: attrs>=22.2.0 in c:\\users\\testm\\appdata\\local\\programs\\python\\python310\\lib\\site-packages (from jsonschema>=3.0->altair<6,>=4.0->streamlit) (24.3.0)\n",
      "Requirement already satisfied: rpds-py>=0.7.1 in c:\\users\\testm\\appdata\\local\\programs\\python\\python310\\lib\\site-packages (from jsonschema>=3.0->altair<6,>=4.0->streamlit) (0.22.3)\n",
      "Requirement already satisfied: mdurl~=0.1 in c:\\users\\testm\\appdata\\local\\programs\\python\\python310\\lib\\site-packages (from markdown-it-py>=2.2.0->rich<14,>=10.14.0->streamlit) (0.1.2)\n",
      "Note: you may need to restart the kernel to use updated packages.\n"
     ]
    },
    {
     "name": "stderr",
     "output_type": "stream",
     "text": [
      "WARNING: You are using pip version 22.0.4; however, version 24.3.1 is available.\n",
      "You should consider upgrading via the 'c:\\Users\\testm\\AppData\\Local\\Programs\\Python\\Python310\\python.exe -m pip install --upgrade pip' command.\n"
     ]
    }
   ],
   "source": [
    "%pip install langchain langchain-community langchain_google_genai chromadb\n",
    "%pip install  pypdf pandas streamlit python-dotenv \n"
   ]
  },
  {
   "cell_type": "code",
   "execution_count": 7,
   "metadata": {},
   "outputs": [
    {
     "name": "stderr",
     "output_type": "stream",
     "text": [
      "c:\\Users\\testm\\AppData\\Local\\Programs\\Python\\Python310\\lib\\site-packages\\tqdm\\auto.py:21: TqdmWarning: IProgress not found. Please update jupyter and ipywidgets. See https://ipywidgets.readthedocs.io/en/stable/user_install.html\n",
      "  from .autonotebook import tqdm as notebook_tqdm\n",
      "C:\\Users\\testm\\AppData\\Roaming\\Python\\Python310\\site-packages\\IPython\\core\\interactiveshell.py:3577: LangChainDeprecationWarning: As of langchain-core 0.3.0, LangChain uses pydantic v2 internally. The langchain_core.pydantic_v1 module was a compatibility shim for pydantic v1, and should no longer be used. Please update the code to import from Pydantic directly.\n",
      "\n",
      "For example, replace imports like: `from langchain_core.pydantic_v1 import BaseModel`\n",
      "with: `from pydantic import BaseModel`\n",
      "or the v1 compatibility namespace if you are working in a code base that has not been fully upgraded to pydantic 2 yet. \tfrom pydantic.v1 import BaseModel\n",
      "\n",
      "  exec(code_obj, self.user_global_ns, self.user_ns)\n"
     ]
    }
   ],
   "source": [
    "from langchain.document_loaders import PyPDFLoader\n",
    "from langchain.text_splitter import RecursiveCharacterTextSplitter\n",
    "from langchain_google_genai import GoogleGenerativeAIEmbeddings, ChatGoogleGenerativeAI\n",
    "from langchain.vectorstores import Chroma \n",
    "from langchain_core.runnables import RunnablePassthrough\n",
    "from langchain_core.prompts import ChatPromptTemplate\n",
    "from langchain_core.pydantic_v1 import BaseModel, Field \n",
    "\n",
    "import os\n",
    "import pandas as pd\n",
    "import streamlit as st\n",
    "import tempfile \n",
    "from dotenv import load_dotenv \n",
    "\n"
   ]
  },
  {
   "cell_type": "code",
   "execution_count": 8,
   "metadata": {},
   "outputs": [],
   "source": [
    "load_dotenv()\n",
    "GEMINI_API_KEY = os.environ.get(\"GEMINI_API_KEY\")\n"
   ]
  },
  {
   "cell_type": "markdown",
   "metadata": {},
   "source": [
    "Define LLM "
   ]
  },
  {
   "cell_type": "code",
   "execution_count": 9,
   "metadata": {},
   "outputs": [],
   "source": [
    "llm = ChatGoogleGenerativeAI(model =\"gemini-1.5-flash\", google_api_key =GEMINI_API_KEY )\n"
   ]
  },
  {
   "cell_type": "code",
   "execution_count": 10,
   "metadata": {},
   "outputs": [
    {
     "data": {
      "text/plain": [
       "AIMessage(content='The current Prime Minister of India is Narendra Modi.', additional_kwargs={}, response_metadata={'prompt_feedback': {'block_reason': 0, 'safety_ratings': []}, 'finish_reason': 'STOP', 'safety_ratings': []}, id='run-c587d72d-0e91-431c-bed1-0046ca5137aa-0', usage_metadata={'input_tokens': 6, 'output_tokens': 11, 'total_tokens': 17, 'input_token_details': {'cache_read': 0}})"
      ]
     },
     "execution_count": 10,
     "metadata": {},
     "output_type": "execute_result"
    }
   ],
   "source": [
    "llm.invoke(\"Who is PM of India\")\n"
   ]
  },
  {
   "cell_type": "markdown",
   "metadata": {},
   "source": [
    "## Processing the Pdf"
   ]
  },
  {
   "cell_type": "markdown",
   "metadata": {},
   "source": [
    "Load pdf document \n",
    "\n"
   ]
  },
  {
   "cell_type": "code",
   "execution_count": 12,
   "metadata": {},
   "outputs": [
    {
     "data": {
      "text/plain": [
       "[Document(metadata={'source': 'data/Coverage_Letter.pdf', 'page': 0}, page_content='December 18, 2024\\nTanmay vijay Pawar\\n1b 1 Smith St\\nBoston, Massachusetts 02120 \\nTo Whom It May Concern: \\nThis letter is to verify that Tanmay vijay Pawar, Insurance ID# NUQ 962586735, is insured under \\nthe 2024-2025 Northeastern University Student Health Insurance Plan Student Health \\nInsurance, Policy number 4955301. The effective dates of coverage are listed in the table below \\nand may be subject to change. \\nInsured’s Name Effective Date Termination Date\\nTanmay vijay Pawar September 1, 2024 August 31, 2025\\nThe 2024-2025 Northeastern University Student Health Insurance Plan Student Health \\nInsurance Plan, policy number 4955301, provides worldwide coverage of eligible medical \\nexpenses. Emergency Medical Evacuation and Repatriation of Remains are covered through  to \\nan unlimited benefit maximum. Worldwide travel assistance is also available. Coverage is \\nsubject to the terms and conditions of the policy. All services must be arranged in advance by  \\nin order for payment to be considered.\\nThe policy is underwritten by Blue Cross Blue Shield of MA and is serviced by Gallagher Student \\nHealth & Special Risk. All claims and benefit questions should be directed to Blue Cross Blue \\nShield of Massachusetts, P.O. Box 986020, Boston, Massachusetts, 2298. Blue Cross Blue Shield \\nof Massachusetts can be contacted at 1-888-753-6615. The pharmacy policy is underwritten for \\nNortheastern University and administered by CVS Caremark can be contacted at 1-800-783-\\n5602. Please note you must provide pharmacies and providers with the information below so \\nthey can initially check their access to your eligibility and benefits.  Prescription coverage is \\nprovided by CVS Caremark.  Coverage is subject to the terms and conditions of the policy.\\nVendor Group: RX22MA\\nRX Bin: 004336\\nPCN: ADV\\nIf you have any questions, please contact our Customer Service Department at (844) 333-1462 \\nfrom 8:30 a.m. to 8:00 p.m. EST.\\nSincerely,\\nThe Gallagher Student Health & Special Risk Team \\n500 Victory Road\\nQuincy, MA 02171\\nMain 1-617-770-9889\\nwww.gallagherstudent.com')]"
      ]
     },
     "execution_count": 12,
     "metadata": {},
     "output_type": "execute_result"
    }
   ],
   "source": [
    "loader = PyPDFLoader(\"data/Coverage_Letter.pdf\")\n",
    "pages = loader.load()\n",
    "pages"
   ]
  },
  {
   "cell_type": "markdown",
   "metadata": {},
   "source": [
    "since the document can contain a lot of text content so it is good to split the text in chunks and paragraphs so that the chunk containing the required inforamation will be more focused."
   ]
  },
  {
   "cell_type": "code",
   "execution_count": 13,
   "metadata": {},
   "outputs": [],
   "source": [
    "text_splitter = RecursiveCharacterTextSplitter(chunk_size =200, \n",
    "                                               chunk_overlap =50, \n",
    "                                            #    length_funtion = len,\n",
    "                                                 separators=[\"\\n\\n\",\"\\n\",\" \"])\n",
    "chunks =  text_splitter.split_documents(pages)"
   ]
  },
  {
   "cell_type": "markdown",
   "metadata": {},
   "source": [
    "## Text Embeddings \n",
    "representing text or characters as numerical vectors.\n",
    "These are hunge list of numbers \n",
    "similar pieces of text will have vectors close to each other whereas the texts which are not similar will have more distance in their vectors \n",
    "Distance between these vectors can be calculated using cosin similarity or eucladian distance "
   ]
  },
  {
   "cell_type": "markdown",
   "metadata": {},
   "source": [
    "## Create Embedding "
   ]
  },
  {
   "cell_type": "code",
   "execution_count": 14,
   "metadata": {},
   "outputs": [],
   "source": [
    "def get_embedding() :\n",
    "    embeddings = GoogleGenerativeAIEmbeddings(\n",
    "        model = \"models/embedding-001\", google_api_key=GEMINI_API_KEY  \n",
    "    )\n",
    "    return embeddings\n",
    "embedding_function = get_embedding()\n",
    "test_vector = embedding_function.embed_query(\"cat\")\n"
   ]
  },
  {
   "cell_type": "code",
   "execution_count": 15,
   "metadata": {},
   "outputs": [
    {
     "data": {
      "text/plain": [
       "{'score': 0.07231365831958902}"
      ]
     },
     "execution_count": 15,
     "metadata": {},
     "output_type": "execute_result"
    }
   ],
   "source": [
    "from langchain.evaluation import load_evaluator\n",
    "evaluator = load_evaluator(evaluator=\"embedding_distance\",\n",
    "                           embeddings = embedding_function)\n",
    "\n",
    "evaluator.evaluate_strings(prediction=\"water\", reference=\"phone\")\n",
    "\n"
   ]
  },
  {
   "cell_type": "markdown",
   "metadata": {},
   "source": [
    "## Vector Database\n",
    "\n",
    "Create a new Chroma database from documents\n",
    "\n",
    "** If vector embeddings for same document is created twice then chroma will save these as 2 separate chunks,, therfore db will contain duplicate data  **"
   ]
  },
  {
   "cell_type": "code",
   "execution_count": 16,
   "metadata": {},
   "outputs": [],
   "source": [
    "import uuid \n",
    "\n",
    "def create_vectorstore(chunks, embedding_function, vectorstore_path): \n",
    "\n",
    "    #Create list of unique ids for each documnet based on content \n",
    "    ids = [str(uuid.uuid5(uuid.NAMESPACE_DNS, doc.page_content)) for doc in chunks] \n",
    "\n",
    "    #Ensuring only unique docs with unique ids are kept\n",
    "    unique_ids = set()\n",
    "    unique_chunks = []\n",
    "\n",
    "    for chunk , id in zip(chunks, ids ):\n",
    "        if id not in unique_ids:\n",
    "            unique_ids.add(id)\n",
    "            unique_chunks.append(chunk)\n",
    "\n",
    "    vectorstore =Chroma.from_documents(documents= unique_chunks,\n",
    "                                       ids = list(unique_ids),\n",
    "                                       embedding= embedding_function,\n",
    "                                       persist_directory= vectorstore_path\n",
    "                                       )\n",
    "    vectorstore.persist()\n",
    "\n",
    "    return vectorstore"
   ]
  },
  {
   "cell_type": "code",
   "execution_count": 17,
   "metadata": {},
   "outputs": [
    {
     "name": "stderr",
     "output_type": "stream",
     "text": [
      "C:\\Users\\testm\\AppData\\Local\\Temp\\ipykernel_14156\\3052451763.py:22: LangChainDeprecationWarning: Since Chroma 0.4.x the manual persistence method is no longer supported as docs are automatically persisted.\n",
      "  vectorstore.persist()\n"
     ]
    }
   ],
   "source": [
    "vectorstore = create_vectorstore(chunks= chunks,\n",
    "                                 embedding_function=  embedding_function,\n",
    "                                 vectorstore_path= \"vectorstore_chroma\")"
   ]
  },
  {
   "cell_type": "markdown",
   "metadata": {},
   "source": [
    "## Query relevant data"
   ]
  },
  {
   "cell_type": "code",
   "execution_count": 18,
   "metadata": {},
   "outputs": [
    {
     "name": "stderr",
     "output_type": "stream",
     "text": [
      "C:\\Users\\testm\\AppData\\Local\\Temp\\ipykernel_14156\\2627413748.py:2: LangChainDeprecationWarning: The class `Chroma` was deprecated in LangChain 0.2.9 and will be removed in 1.0. An updated version of the class exists in the :class:`~langchain-chroma package and should be used instead. To use it run `pip install -U :class:`~langchain-chroma` and import as `from :class:`~langchain_chroma import Chroma``.\n",
      "  vectorestore = Chroma(persist_directory=\"vectorstore_chroma\",\n"
     ]
    }
   ],
   "source": [
    "#Load vectorstore \n",
    "vectorestore = Chroma(persist_directory=\"vectorstore_chroma\",\n",
    "                      embedding_function= embedding_function)\n"
   ]
  },
  {
   "cell_type": "code",
   "execution_count": 20,
   "metadata": {},
   "outputs": [
    {
     "data": {
      "text/plain": [
       "[Document(metadata={'page': 0, 'source': 'data/Coverage_Letter.pdf'}, page_content='the 2024-2025 Northeastern University Student Health Insurance Plan Student Health \\nInsurance, Policy number 4955301. The effective dates of coverage are listed in the table below'),\n",
       " Document(metadata={'page': 0, 'source': 'data/Coverage_Letter.pdf'}, page_content='December 18, 2024\\nTanmay vijay Pawar\\n1b 1 Smith St\\nBoston, Massachusetts 02120 \\nTo Whom It May Concern:'),\n",
       " Document(metadata={'page': 0, 'source': 'data/Coverage_Letter.pdf'}, page_content='and may be subject to change. \\nInsured’s Name Effective Date Termination Date\\nTanmay vijay Pawar September 1, 2024 August 31, 2025'),\n",
       " Document(metadata={'page': 0, 'source': 'data/Coverage_Letter.pdf'}, page_content='in order for payment to be considered.\\nThe policy is underwritten by Blue Cross Blue Shield of MA and is serviced by Gallagher Student')]"
      ]
     },
     "execution_count": 20,
     "metadata": {},
     "output_type": "execute_result"
    }
   ],
   "source": [
    "# Creater retreiver and get the relevant chunks \n",
    "retriever = vectorestore.as_retriever(search_type = \"similarity\")\n",
    "relevant_chunks = retriever.invoke(\"what is date on document?\")\n",
    "relevant_chunks"
   ]
  },
  {
   "cell_type": "code",
   "execution_count": 21,
   "metadata": {},
   "outputs": [],
   "source": [
    "PROMPT_TEMPLATE = \"\"\" You are a assitant for answering questions asked.\n",
    "us the context given for reference and answer accordingly. If you don't know \n",
    "the answer just say you don't know. Do not make up any answers.\n",
    "\n",
    "{context}\n",
    "----\n",
    "Answer the following question based on the above context : {question}\n",
    "\"\"\"\n"
   ]
  },
  {
   "cell_type": "code",
   "execution_count": 25,
   "metadata": {},
   "outputs": [
    {
     "name": "stdout",
     "output_type": "stream",
     "text": [
      "Human:  You are a assitant for answering questions asked.\n",
      "us the context given for reference and answer accordingly. If you don't know \n",
      "the answer just say you don't know. Do not make up any answers.\n",
      "\n",
      "the 2024-2025 Northeastern University Student Health Insurance Plan Student Health \n",
      "Insurance, Policy number 4955301. The effective dates of coverage are listed in the table below\n",
      "\n",
      "----\n",
      "\n",
      "December 18, 2024\n",
      "Tanmay vijay Pawar\n",
      "1b 1 Smith St\n",
      "Boston, Massachusetts 02120 \n",
      "To Whom It May Concern:\n",
      "\n",
      "----\n",
      "\n",
      "and may be subject to change. \n",
      "Insured’s Name Effective Date Termination Date\n",
      "Tanmay vijay Pawar September 1, 2024 August 31, 2025\n",
      "\n",
      "----\n",
      "\n",
      "in order for payment to be considered.\n",
      "The policy is underwritten by Blue Cross Blue Shield of MA and is serviced by Gallagher Student\n",
      "----\n",
      "Answer the following question based on the above context : what is date on document?\n",
      "\n"
     ]
    }
   ],
   "source": [
    "#Combine the context text chunks\n",
    "context_text = \"\\n\\n----\\n\\n\".join([doc.page_content for doc in relevant_chunks])\n",
    "\n",
    "#Create prompt \n",
    "prompt_template = ChatPromptTemplate.from_template(PROMPT_TEMPLATE)\n",
    "prompt = prompt_template.format(context = context_text, question =\"what is date on document?\")\n",
    "\n",
    "print(prompt)"
   ]
  },
  {
   "cell_type": "markdown",
   "metadata": {},
   "source": [
    "### Generate Response"
   ]
  },
  {
   "cell_type": "code",
   "execution_count": 26,
   "metadata": {},
   "outputs": [
    {
     "data": {
      "text/plain": [
       "AIMessage(content='December 18, 2024', additional_kwargs={}, response_metadata={'prompt_feedback': {'block_reason': 0, 'safety_ratings': []}, 'finish_reason': 'STOP', 'safety_ratings': []}, id='run-a5b1fe16-b0f3-4160-bf07-116e4d91ccef-0', usage_metadata={'input_tokens': 238, 'output_tokens': 11, 'total_tokens': 249, 'input_token_details': {'cache_read': 0}})"
      ]
     },
     "execution_count": 26,
     "metadata": {},
     "output_type": "execute_result"
    }
   ],
   "source": [
    "llm.invoke(prompt)"
   ]
  },
  {
   "cell_type": "markdown",
   "metadata": {},
   "source": [
    "### Using Lanchain expression language"
   ]
  },
  {
   "cell_type": "code",
   "execution_count": 33,
   "metadata": {},
   "outputs": [
    {
     "data": {
      "text/plain": [
       "AIMessage(content='December 18, 2024', additional_kwargs={}, response_metadata={'prompt_feedback': {'block_reason': 0, 'safety_ratings': []}, 'finish_reason': 'STOP', 'safety_ratings': []}, id='run-6579b14d-d334-4c2d-908d-ea6fff9d7494-0', usage_metadata={'input_tokens': 280, 'output_tokens': 11, 'total_tokens': 291, 'input_token_details': {'cache_read': 0}})"
      ]
     },
     "execution_count": 33,
     "metadata": {},
     "output_type": "execute_result"
    }
   ],
   "source": [
    "def format_docs(docs):\n",
    "    return \"\\n\\n\".join([doc.page_content for doc in docs\n",
    "    ])\n",
    "\n",
    "rag_chain = (\n",
    "    {\"context\": retriever | format_docs, \"question\": RunnablePassthrough()}\n",
    "    | prompt_template\n",
    "    | llm \n",
    "\n",
    ")\n",
    "\n",
    "rag_chain.invoke(\"What is date of document?\")"
   ]
  },
  {
   "cell_type": "markdown",
   "metadata": {},
   "source": [
    "### Generating structured response"
   ]
  },
  {
   "cell_type": "code",
   "execution_count": 55,
   "metadata": {},
   "outputs": [],
   "source": [
    "class ExtractedInfo(BaseModel) :\n",
    "    \"\"\" Extracted info from given pdf \"\"\"\n",
    "    document_date: str = Field(description=\"What is date of the document?\")\n",
    "    letter_for: str = Field(description=\"To whom the document belong?\")\n",
    "    document_summary: str = Field(description=\"Give summary of the document without any id's.\")\n",
    "    insurance_id : str = Field(\"what is document id of the user ?\")\n"
   ]
  },
  {
   "cell_type": "code",
   "execution_count": 56,
   "metadata": {},
   "outputs": [
    {
     "name": "stdout",
     "output_type": "stream",
     "text": [
      "document_date='September 1, 2024' letter_for='Tanmay vijay Pawar' document_summary='This letter is to verify that Tanmay vijay Pawar is insured under CVS Caremark. Coverage is subject to the terms and conditions of the policy.' insurance_id='NUQ 962586735'\n"
     ]
    }
   ],
   "source": [
    "\n",
    "def ragChain(question):\n",
    "    rag_chain = (\n",
    "        {\"context\": retriever | format_docs, \"question\": RunnablePassthrough()}\n",
    "        | prompt_template\n",
    "        | llm.with_structured_output(ExtractedInfo)\n",
    "    )\n",
    "\n",
    "    return rag_chain.invoke(question)\n",
    "\n",
    "\n",
    "print(ragChain(\"Give me name of the provider,document date, owner name, summary, document id\"))"
   ]
  },
  {
   "cell_type": "code",
   "execution_count": null,
   "metadata": {},
   "outputs": [],
   "source": []
  },
  {
   "cell_type": "code",
   "execution_count": null,
   "metadata": {},
   "outputs": [],
   "source": []
  }
 ],
 "metadata": {
  "kernelspec": {
   "display_name": "Python 3",
   "language": "python",
   "name": "python3"
  },
  "language_info": {
   "codemirror_mode": {
    "name": "ipython",
    "version": 3
   },
   "file_extension": ".py",
   "mimetype": "text/x-python",
   "name": "python",
   "nbconvert_exporter": "python",
   "pygments_lexer": "ipython3",
   "version": "3.10.4"
  }
 },
 "nbformat": 4,
 "nbformat_minor": 2
}
